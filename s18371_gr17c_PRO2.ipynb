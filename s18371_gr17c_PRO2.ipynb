{
  "nbformat": 4,
  "nbformat_minor": 0,
  "metadata": {
    "colab": {
      "name": "s18371_gr17c_PRO2.ipynb",
      "provenance": [],
      "collapsed_sections": []
    },
    "kernelspec": {
      "name": "python3",
      "display_name": "Python 3"
    },
    "language_info": {
      "name": "python"
    }
  },
  "cells": [
    {
      "cell_type": "markdown",
      "metadata": {
        "id": "qHiLnNMqkD_q"
      },
      "source": [
        "#Zadania klasyfikacji - perceptron, regresja logistyczna\n",
        "\n",
        "\n",
        "Proszę nie używać dostępnych w bibliotekach klasyfikatorów.\n"
      ]
    },
    {
      "cell_type": "markdown",
      "metadata": {
        "id": "QVVFcRumljah"
      },
      "source": [
        "## plot_decision_regions"
      ]
    },
    {
      "cell_type": "code",
      "metadata": {
        "id": "G9M07Y_5lP9c"
      },
      "source": [
        "from matplotlib.colors import ListedColormap\n",
        "import matplotlib.pyplot as plt\n",
        "import numpy as np\n",
        "\n",
        "\n",
        "def plot_decision_regions(X, y, classifier, test_idx=None, resolution=0.02):\n",
        "\n",
        "        # konfiguruje generator znaczników i mapę kolorów\n",
        "        markers = ('s', 'x', 'o', '^', 'v')\n",
        "        colors = ('red', 'blue', 'lightgreen', 'gray', 'cyan')\n",
        "        cmap = ListedColormap(colors[:len(np.unique(y))])\n",
        "\n",
        "        # rysuje wykres powierzchni decyzyjnej\n",
        "        x1_min, x1_max = X[:, 0].min() - 1, X[:, 0].max() + 1\n",
        "        x2_min, x2_max = X[:, 1].min() - 1, X[:, 1].max() + 1\n",
        "        xx1, xx2 = np.meshgrid(np.arange(x1_min, x1_max, resolution), np.arange(x2_min, x2_max, resolution))\n",
        "        Z = classifier.predict(np.array([xx1.ravel(), xx2.ravel()]).T)\n",
        "        Z = Z.reshape(xx1.shape)\n",
        "        plt.contourf(xx1, xx2, Z, alpha=0.3, cmap=cmap)\n",
        "        plt.xlim(xx1.min(), xx1.max())\n",
        "        plt.ylim(xx2.min(), xx2.max())\n",
        "\n",
        "        # rysuje wykres wszystkich próbek\n",
        "        for idx, cl in enumerate(np.unique(y)):\n",
        "            plt.scatter(x=X[y == cl, 0], y=X[y == cl, 1], alpha=0.8, c=cmap(idx), marker=markers[idx], label=cl, edgecolor='black')\n"
      ],
      "execution_count": null,
      "outputs": []
    },
    {
      "cell_type": "markdown",
      "metadata": {
        "id": "Z6Mz60W_kHs9"
      },
      "source": [
        "##1. Używając perceptronów napisz klasyfikator wielo-klasowy (klasyfikujący 3 lub więcej klas). Dla każdej z klas użyj klasyfikatora binarnego. Przykład klasyfikatora binarnego znajduje się poniżej."
      ]
    },
    {
      "cell_type": "code",
      "metadata": {
        "id": "RjZX4wn8ka9M"
      },
      "source": [
        "import matplotlib.pyplot as plt\n",
        "import numpy as np\n",
        "from sklearn.model_selection import train_test_split\n",
        "from sklearn import datasets\n",
        "\n",
        "class Perceptron(object):\n",
        "\n",
        "    # Konstruktor, podajemy współczynik uczenia sie oraz ilość epok\n",
        "    def __init__(self, eta=0.01, n_iter=10):\n",
        "        self.eta = eta\n",
        "        self.n_iter = n_iter\n",
        "\n",
        "    def fit(self, X, y):\n",
        "        self.w_ = np.zeros(1+ X.shape[1])\n",
        "        self.errors_ = []\n",
        "\n",
        "        for _ in range(self.n_iter):\n",
        "            errors = 0\n",
        "            for xi, target in zip(X,y):\n",
        "                update = self.eta * (target - self.predict(xi))\n",
        "                self.w_[1:] += update *xi\n",
        "                self.w_[0] += update\n",
        "                errors += int(update != 0.0)\n",
        "            self.errors_.append(errors)\n",
        "        return self\n",
        "\n",
        "    def net_input(self, X):\n",
        "        return np.dot(X, self.w_[1:]) + self.w_[0]\n",
        "\n",
        "    def predict(self, X):\n",
        "        return np.where(self.net_input(X) >= 0.0, 1, -1)"
      ],
      "execution_count": null,
      "outputs": []
    },
    {
      "cell_type": "code",
      "metadata": {
        "id": "xSJJiLimV7yb",
        "colab": {
          "base_uri": "https://localhost:8080/",
          "height": 352
        },
        "outputId": "8bcbf819-20b8-470a-985f-760af511d203"
      },
      "source": [
        "class Classifier:\n",
        "    def __init__(self, ppn1, ppn2,ppn3):\n",
        "        self.ppn1 = ppn1\n",
        "        self.ppn2 = ppn2\n",
        "        self.ppn3=ppn3\n",
        "    def predict(self, X):\n",
        "        ppn1=np.where(self.ppn1.predict(X)>=0,0,1)\n",
        "        ppn2=np.where(self.ppn2.predict(X)>=0,1,ppn1)\n",
        "        ppn3=np.where(self.ppn3.predict(X)>=0,2,ppn2)\n",
        "\n",
        "        return ppn3\n",
        "\n",
        "def main():\n",
        "    # pobiera danne do uczenia i testowania\n",
        "    iris = datasets.load_iris()\n",
        "    X = iris.data[:, [2, 3]]\n",
        "    y = iris.target\n",
        "    # podział danych na testowe i treningowe\n",
        "    X_train, X_test, y_train, y_test = train_test_split(X, y, test_size=0.3, random_state=1, stratify=y)\n",
        "\n",
        "    y1=y_train.copy()\n",
        "    y2=y_train.copy()\n",
        "    y3=y_train.copy()\n",
        "    \n",
        "    y1[(y_train ==1) | (y_train==2)]=-1\n",
        "    y1[(y1 == 0)]=1\n",
        "    y2[(y_train==0) | (y_train==2)]=-1\n",
        "    y2[(y2 ==1)]=1\n",
        "    y3[(y_train==0) | (y_train==1)]=-1\n",
        "    y3[(y3 ==2)]=1\n",
        "\n",
        "    ppn = Perceptron(eta=0.1, n_iter=50)\n",
        "    ppn2 = Perceptron(eta=0.1, n_iter=50)\n",
        "    ppn3 = Perceptron(eta=0.1, n_iter=50)\n",
        "\n",
        "    ppn.fit(X_train, y1)\n",
        "    ppn2.fit(X_train, y2)\n",
        "    ppn3.fit(X_train, y3)\n",
        "\n",
        "    klasyfikator = Classifier(ppn,ppn2,ppn3)\n",
        "\n",
        "    \n",
        "\n",
        "    # wyświetla wykres\n",
        "    #plot_decision_regions(X=X_train_01_subset, y=y_train_01_subset, classifier=lista)\n",
        "\n",
        "\n",
        "    plot_decision_regions(X=X_test, y=y_test, classifier=klasyfikator)\n",
        "\n",
        "  \n",
        "    plt.xlabel(r'$x_1$')\n",
        "    plt.ylabel(r'$x_2$')\n",
        "    plt.legend(loc='upper left')\n",
        "    plt.show()\n",
        "    \n",
        "\n",
        "if __name__ == '__main__':\n",
        "    main()"
      ],
      "execution_count": null,
      "outputs": [
        {
          "output_type": "stream",
          "text": [
            "*c* argument looks like a single numeric RGB or RGBA sequence, which should be avoided as value-mapping will have precedence in case its length matches with *x* & *y*.  Please use the *color* keyword-argument or provide a 2-D array with a single row if you intend to specify the same RGB or RGBA value for all points.\n",
            "*c* argument looks like a single numeric RGB or RGBA sequence, which should be avoided as value-mapping will have precedence in case its length matches with *x* & *y*.  Please use the *color* keyword-argument or provide a 2-D array with a single row if you intend to specify the same RGB or RGBA value for all points.\n",
            "*c* argument looks like a single numeric RGB or RGBA sequence, which should be avoided as value-mapping will have precedence in case its length matches with *x* & *y*.  Please use the *color* keyword-argument or provide a 2-D array with a single row if you intend to specify the same RGB or RGBA value for all points.\n"
          ],
          "name": "stderr"
        },
        {
          "output_type": "display_data",
          "data": {
            "image/png": "[encoded data removed]",
            "text/plain": [
              "<Figure size 432x288 with 1 Axes>"
            ]
          },
          "metadata": {
            "tags": [],
            "needs_background": "light"
          }
        }
      ]
    },
    {
      "cell_type": "markdown",
      "metadata": {
        "id": "da76RT4AkMY4"
      },
      "source": [
        "##2. Napisz klasyfikator wielo-klasowy przy użyciu regresji logistycznej. Dla każdej z klas użyj klasyfikatora binarnego. Przykład regresji logistycznej dla przypadku dwuklasowego znajduje się poniżej."
      ]
    },
    {
      "cell_type": "code",
      "metadata": {
        "id": "t1xDlUgnlCxL"
      },
      "source": [
        "import numpy as np\n",
        "import matplotlib.pylab as plt\n",
        "from sklearn import datasets\n",
        "from sklearn.model_selection import train_test_split\n",
        "\n",
        "\n",
        "class LogisticRegressionGD(object):\n",
        "    def __init__(self, eta=0.05, n_iter=100, random_state=1):\n",
        "        self.eta = eta\n",
        "        self.n_iter = n_iter\n",
        "        self.random_state = random_state\n",
        "\n",
        "    def fit(self, X, y):\n",
        "        rgen = np.random.RandomState(self.random_state)\n",
        "        self.w_ = rgen.normal(loc=0.0, scale=0.01, size=1 + X.shape[1])\n",
        "        self.cost_ = []\n",
        "\n",
        "        for i in range(self.n_iter):\n",
        "            net_input = self.net_input(X)\n",
        "            output = self.activation(net_input)\n",
        "            errors = (y - output)\n",
        "            self.w_[1:] += self.eta * X.T.dot(errors)\n",
        "            self.w_[0] += self.eta * errors.sum()\n",
        "            cost = (-y.dot(np.log(output)) - ((1 - y).dot(np.log(1 - output))))\n",
        "            self.cost_.append(cost)\n",
        "        return self\n",
        "\n",
        "    def net_input(self, X):\n",
        "        return np.dot(X, self.w_[1:]) + self.w_[0]\n",
        "\n",
        "    def activation(self, z):\n",
        "        return 1. / (1. + np.exp(-np.clip(z, -250, 250)))\n",
        "\n",
        "    def predict(self, X):\n",
        "        #return self.activation(self.net_input(X))\n",
        "        return np.where(self.net_input(X) >= 0.0, 1, 0)"
      ],
      "execution_count": null,
      "outputs": []
    },
    {
      "cell_type": "code",
      "metadata": {
        "id": "NGTTBL4QWl0L",
        "colab": {
          "base_uri": "https://localhost:8080/",
          "height": 369
        },
        "outputId": "6cdfb54f-30b1-4f4c-de80-46aff2a01852"
      },
      "source": [
        "class Classifier:\n",
        "    def __init__(self, ppn1, ppn2,ppn3):\n",
        "        self.ppn1 = ppn1\n",
        "        self.ppn2 = ppn2\n",
        "        self.ppn3 = ppn3\n",
        "    def predict(self, X):\n",
        "        ppn1=np.where(self.ppn1.predict(X)==1,0,1)\n",
        "        ppn3=np.where(self.ppn3.predict(X)==1,2,ppn1)\n",
        "        ppn2=np.where(self.ppn2.predict(X)==1,1,ppn3)\n",
        "        return ppn2\n",
        "\n",
        "\n",
        "def main():\n",
        "    iris = datasets.load_iris()\n",
        "    X = iris.data[:, [2, 3]]\n",
        "    y = iris.target\n",
        "    X_train, X_test, y_train, y_test = train_test_split(X, y, test_size=0.3, random_state=1, stratify=y)\n",
        "\n",
        "    y1=y_train.copy()\n",
        "    y2=y_train.copy()\n",
        "    y3=y_train.copy()\n",
        "\n",
        "    y1[(y_train == 1) | (y_train == 2)] = 0\n",
        "    y1[(y_train == 0)] = 1\n",
        "    y2[(y_train == 0) | (y_train == 2)] = 0\n",
        "    y2[(y_train == 1)] = 1\n",
        "    y3[(y_train == 0) | (y_train == 1)] = 0\n",
        "    y3[(y_train == 2)] = 1\n",
        "\n",
        "    ppn1 = LogisticRegressionGD(eta=0.1, n_iter=50000)\n",
        "    ppn1.fit(X_train, y1)\n",
        "\n",
        "    ppn2 = LogisticRegressionGD(eta=0.1, n_iter=50000)\n",
        "    ppn2.fit(X_train, y2)\n",
        "\n",
        "    ppn3 = LogisticRegressionGD(eta=0.1, n_iter=50000)\n",
        "    ppn3.fit(X_train, y3)\n",
        "\n",
        "    clas = Classifier(ppn1,ppn2,ppn3)\n",
        "\n",
        "    plot_decision_regions(X=X_test, y=y_test, classifier=clas)\n",
        "    plt.xlabel(r'$x_1$')\n",
        "    plt.ylabel(r'$x_2$')\n",
        "    plt.legend(loc='upper left')\n",
        "    plt.show()\n",
        "\n",
        "\n",
        "if __name__ == '__main__':\n",
        "    main()"
      ],
      "execution_count": null,
      "outputs": [
        {
          "output_type": "stream",
          "text": [
            "/usr/local/lib/python3.7/dist-packages/ipykernel_launcher.py:24: RuntimeWarning: divide by zero encountered in log\n",
            "*c* argument looks like a single numeric RGB or RGBA sequence, which should be avoided as value-mapping will have precedence in case its length matches with *x* & *y*.  Please use the *color* keyword-argument or provide a 2-D array with a single row if you intend to specify the same RGB or RGBA value for all points.\n",
            "*c* argument looks like a single numeric RGB or RGBA sequence, which should be avoided as value-mapping will have precedence in case its length matches with *x* & *y*.  Please use the *color* keyword-argument or provide a 2-D array with a single row if you intend to specify the same RGB or RGBA value for all points.\n",
            "*c* argument looks like a single numeric RGB or RGBA sequence, which should be avoided as value-mapping will have precedence in case its length matches with *x* & *y*.  Please use the *color* keyword-argument or provide a 2-D array with a single row if you intend to specify the same RGB or RGBA value for all points.\n"
          ],
          "name": "stderr"
        },
        {
          "output_type": "display_data",
          "data": {
            "image/png": "[encoded data removed]",
            "text/plain": [
              "<Figure size 432x288 with 1 Axes>"
            ]
          },
          "metadata": {
            "tags": [],
            "needs_background": "light"
          }
        }
      ]
    },
    {
      "cell_type": "markdown",
      "metadata": {
        "id": "uGyNbcE1kRbA"
      },
      "source": [
        "##3. Dla regresji logistycznej napisz metodę wypisującą prawdopodobieństwo przynależności próbki (próbek) do danej klasy (klas)."
      ]
    },
    {
      "cell_type": "code",
      "metadata": {
        "id": "htt4Kht-i2pO"
      },
      "source": [
        "def funkcja(ppn,testy):\n",
        "  print(np.round(ppn.activation(ppn.net_input(testy)),3))"
      ],
      "execution_count": null,
      "outputs": []
    },
    {
      "cell_type": "markdown",
      "metadata": {
        "id": "HST-rwkQZeXi"
      },
      "source": [
        "# Program"
      ]
    },
    {
      "cell_type": "code",
      "metadata": {
        "id": "-Zhzx22zZhov",
        "colab": {
          "base_uri": "https://localhost:8080/"
        },
        "outputId": "29aa38be-db05-4758-ca13-3e8d5c15dbfe"
      },
      "source": [
        "def main():\n",
        "    # pobiera danne do uczenia i testowania\n",
        "    iris = datasets.load_iris()\n",
        "    X = iris.data[:, [2, 3]]\n",
        "    y = iris.target\n",
        "    # podział danych na testowe i treningowe\n",
        "    X_train, X_test, y_train, y_test = train_test_split(X, y, test_size=0.3, random_state=1, stratify=y)\n",
        "\n",
        "\n",
        "    y1=y_train.copy()\n",
        "    y2=y_train.copy()\n",
        "    y3=y_train.copy()\n",
        "\n",
        "\n",
        "    y1[(y_train == 1) | (y_train == 2)] = 0\n",
        "    y1[(y_train == 0)] = 1\n",
        "    y2[(y_train == 0) | (y_train == 2)] = 0\n",
        "    y2[(y_train == 1)] = 1\n",
        "    y3[(y_train == 0) | (y_train == 1)] = 0\n",
        "    y3[(y_train == 2)] = 1\n",
        "\n",
        "    ppn1 = LogisticRegressionGD(eta=0.1, n_iter=1000)\n",
        "    ppn1.fit(X_train, y1)\n",
        "\n",
        "    ppn2 = LogisticRegressionGD(eta=0.1, n_iter=1000)\n",
        "    ppn2.fit(X_train, y2)\n",
        "\n",
        "    ppn3 = LogisticRegressionGD(eta=0.1, n_iter=1000)\n",
        "    ppn3.fit(X_train, y3)\n",
        "\n",
        "    lista = [ppn1,ppn2,ppn3]\n",
        "    for i in range(3):\n",
        "      funkcja(lista[i], X_test)\n",
        "\n",
        "if __name__ == '__main__':\n",
        "    main()\n"
      ],
      "execution_count": null,
      "outputs": [
        {
          "output_type": "stream",
          "text": [
            "[0.    0.999 1.    0.    0.    0.    0.    0.    0.    1.    1.    0.\n",
            " 1.    0.002 1.    0.    0.    0.    0.    0.    0.    1.    0.    0.\n",
            " 0.    0.    0.003 0.    0.998 0.    1.    1.    0.    0.    0.    0.\n",
            " 1.    1.    1.    0.    0.    0.    0.    1.    1.   ]\n",
            "[1.    0.998 0.857 1.    1.    1.    1.    1.    1.    0.002 0.468 1.\n",
            " 0.999 1.    0.999 1.    1.    1.    1.    1.    1.    1.    1.    1.\n",
            " 1.    1.    1.    1.    0.001 1.    1.    0.999 1.    1.    1.    1.\n",
            " 1.    1.    0.999 1.    1.    1.    1.    1.    1.   ]\n",
            "[1.    0.    0.    0.98  0.    0.    1.    0.067 1.    0.    0.    1.\n",
            " 0.    0.    0.    0.441 1.    0.067 0.    1.    1.    0.    0.    1.\n",
            " 0.    0.988 0.    1.    0.    1.    0.    0.    0.    0.    1.    1.\n",
            " 0.    0.    0.    0.107 1.    1.    0.32  0.    0.   ]\n"
          ],
          "name": "stdout"
        },
        {
          "output_type": "stream",
          "text": [
            "/usr/local/lib/python3.7/dist-packages/ipykernel_launcher.py:24: RuntimeWarning: divide by zero encountered in log\n"
          ],
          "name": "stderr"
        }
      ]
    }
  ]
}